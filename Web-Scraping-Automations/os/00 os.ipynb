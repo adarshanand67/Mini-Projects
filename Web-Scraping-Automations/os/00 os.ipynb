{
 "cells": [
  {
   "cell_type": "code",
   "execution_count": 2,
   "metadata": {},
   "outputs": [
    {
     "name": "stdout",
     "output_type": "stream",
     "text": [
      "['DirEntry', 'F_OK', 'GenericAlias', 'Mapping', 'MutableMapping', 'O_APPEND', 'O_BINARY', 'O_CREAT', 'O_EXCL', 'O_NOINHERIT', 'O_RANDOM', 'O_RDONLY', 'O_RDWR', 'O_SEQUENTIAL', 'O_SHORT_LIVED', 'O_TEMPORARY', 'O_TEXT', 'O_TRUNC', 'O_WRONLY', 'P_DETACH', 'P_NOWAIT', 'P_NOWAITO', 'P_OVERLAY', 'P_WAIT', 'PathLike', 'R_OK', 'SEEK_CUR', 'SEEK_END', 'SEEK_SET', 'TMP_MAX', 'W_OK', 'X_OK', '_AddedDllDirectory', '_Environ', '__all__', '__builtins__', '__cached__', '__doc__', '__file__', '__loader__', '__name__', '__package__', '__spec__', '_check_methods', '_execvpe', '_exists', '_exit', '_fspath', '_get_exports_list', '_walk', '_wrap_close', 'abc', 'abort', 'access', 'add_dll_directory', 'altsep', 'chdir', 'chmod', 'close', 'closerange', 'cpu_count', 'curdir', 'defpath', 'device_encoding', 'devnull', 'dup', 'dup2', 'environ', 'error', 'execl', 'execle', 'execlp', 'execlpe', 'execv', 'execve', 'execvp', 'execvpe', 'extsep', 'fdopen', 'fsdecode', 'fsencode', 'fspath', 'fstat', 'fsync', 'ftruncate', 'get_exec_path', 'get_handle_inheritable', 'get_inheritable', 'get_terminal_size', 'getcwd', 'getcwdb', 'getenv', 'getlogin', 'getpid', 'getppid', 'isatty', 'kill', 'linesep', 'link', 'listdir', 'lseek', 'lstat', 'makedirs', 'mkdir', 'name', 'open', 'pardir', 'path', 'pathsep', 'pipe', 'popen', 'putenv', 'read', 'readlink', 'remove', 'removedirs', 'rename', 'renames', 'replace', 'rmdir', 'scandir', 'sep', 'set_handle_inheritable', 'set_inheritable', 'spawnl', 'spawnle', 'spawnv', 'spawnve', 'st', 'startfile', 'stat', 'stat_result', 'statvfs_result', 'strerror', 'supports_bytes_environ', 'supports_dir_fd', 'supports_effective_ids', 'supports_fd', 'supports_follow_symlinks', 'symlink', 'sys', 'system', 'terminal_size', 'times', 'times_result', 'truncate', 'umask', 'uname_result', 'unlink', 'unsetenv', 'urandom', 'utime', 'waitpid', 'waitstatus_to_exitcode', 'walk', 'write']\n"
     ]
    }
   ],
   "source": [
    "'''\n",
    "    Adarsh Anand\n",
    "    Basic os module functions which can be used in places in future projects\n",
    "'''\n",
    "\n",
    "import os\n",
    "\n",
    "# List of files in the current directory:\n",
    "print(dir(os))\n"
   ]
  },
  {
   "cell_type": "code",
   "execution_count": 3,
   "metadata": {},
   "outputs": [
    {
     "name": "stdout",
     "output_type": "stream",
     "text": [
      "Current working directory is - c:\\Users\\hp\\Documents\\GitHub\\Web-Scraping-Automations\\os\n"
     ]
    }
   ],
   "source": [
    "\n",
    "print(\"Current working directory is - \" + os.getcwd())\n",
    "\n",
    "# os.chdir('C://')  # Change the current working directory\n",
    "# print(\"Current working directory is - \" + os.getcwd())\n",
    "\n"
   ]
  },
  {
   "cell_type": "code",
   "execution_count": 4,
   "metadata": {},
   "outputs": [
    {
     "name": "stdout",
     "output_type": "stream",
     "text": [
      "['00 os.ipynb', '08 Shutdown.py']\n"
     ]
    }
   ],
   "source": [
    "print(os.listdir())  # List of files in the current directory\n",
    "\n",
    "os.mkdir('test')  # Create a directory\n",
    "# os.makedirs('test/sub1/sub2')  # Create a directory recursively\n",
    "\n",
    "os.rename('test', 'new_test')  # Rename a directory\n",
    "\n"
   ]
  },
  {
   "cell_type": "code",
   "execution_count": 5,
   "metadata": {},
   "outputs": [
    {
     "name": "stdout",
     "output_type": "stream",
     "text": [
      "C:\\Users\\hp\\anaconda3\n",
      "C:\\Users\\hp\\anaconda3\\Library\\mingw-w64\\bin\n",
      "C:\\Users\\hp\\anaconda3\\Library\\usr\\bin\n",
      "C:\\Users\\hp\\anaconda3\\Library\\bin\n",
      "C:\\Users\\hp\\anaconda3\\Scripts\n",
      "C:\\Users\\hp\\anaconda3\\bin\n",
      "C:\\Users\\hp\\anaconda3\\condabin\n",
      "C:\\Program Files\\NVIDIA GPU Computing Toolkit\\CUDA\\v11.6\\bin\n",
      "C:\\Program Files\\NVIDIA GPU Computing Toolkit\\CUDA\\v11.6\\libnvvp\n",
      "C:\\WINDOWS\\system32\n",
      "C:\\WINDOWS\n",
      "C:\\WINDOWS\\System32\\Wbem\n",
      "C:\\WINDOWS\\System32\\WindowsPowerShell\\v1.0\n",
      "C:\\WINDOWS\\System32\\OpenSSH\n",
      "C:\\Program Files\\Microsoft VS Code\\bin\n",
      "C:\\Program Files\\Git\\cmd\n",
      "C:\\Program Files\\dotnet\n",
      "C:\\Program Files\\nodejs\n",
      "C:\\ProgramData\\chocolatey\\bin\n",
      "C:\\Program Files\\NVIDIA Corporation\\Nsight Compute 2022.1.0\n",
      "C:\\Program Files (x86)\\NVIDIA Corporation\\PhysX\\Common\n",
      "C:\\Program Files\\NVIDIA Corporation\\NVIDIA NvDLISR\n",
      "C:\\Program Files\\Git LFS\n",
      "C:\\Users\\hp\\scoop\\shims\n",
      "C:\\Users\\hp\\AppData\\Local\\Programs\\Python\\Python39\\Scripts\n",
      "C:\\Users\\hp\\AppData\\Local\\Programs\\Python\\Python39\n",
      "C:\\Users\\hp\\AppData\\Local\\Microsoft\\WindowsApps\n",
      "C:\\Users\\hp\\AppData\\Local\\GitHubDesktop\\bin\n",
      "C:\\Users\\hp\\AppData\\Local\\Programs\\Microsoft VS Code\\bin\n",
      "C:\\Users\\hp\\AppData\\Roaming\\npm\n",
      "C:\\MinGW\\bin\n",
      "C:\\Users\\hp\\anaconda3\\Library\\bin\n",
      "C:\\Users\\hp\\.dotnet\\tools\n",
      "C:\\Program Files (x86)\\chromedriver_win32\n",
      ".\n"
     ]
    },
    {
     "ename": "FileNotFoundError",
     "evalue": "[WinError 2] The system cannot find the file specified: 'test'",
     "output_type": "error",
     "traceback": [
      "\u001b[1;31m---------------------------------------------------------------------------\u001b[0m",
      "\u001b[1;31mFileNotFoundError\u001b[0m                         Traceback (most recent call last)",
      "\u001b[1;32m~\\AppData\\Local\\Temp/ipykernel_12952/1642665551.py\u001b[0m in \u001b[0;36m<module>\u001b[1;34m\u001b[0m\n\u001b[0;32m      4\u001b[0m     \u001b[0mprint\u001b[0m\u001b[1;33m(\u001b[0m\u001b[0mi\u001b[0m\u001b[1;33m)\u001b[0m\u001b[1;33m\u001b[0m\u001b[1;33m\u001b[0m\u001b[0m\n\u001b[0;32m      5\u001b[0m \u001b[1;33m\u001b[0m\u001b[0m\n\u001b[1;32m----> 6\u001b[1;33m \u001b[0mos\u001b[0m\u001b[1;33m.\u001b[0m\u001b[0mremove\u001b[0m\u001b[1;33m(\u001b[0m\u001b[1;34m'test'\u001b[0m\u001b[1;33m)\u001b[0m  \u001b[1;31m# Remove a file\u001b[0m\u001b[1;33m\u001b[0m\u001b[1;33m\u001b[0m\u001b[0m\n\u001b[0m\u001b[0;32m      7\u001b[0m \u001b[0mos\u001b[0m\u001b[1;33m.\u001b[0m\u001b[0mrmdir\u001b[0m\u001b[1;33m(\u001b[0m\u001b[1;34m'new_test'\u001b[0m\u001b[1;33m)\u001b[0m  \u001b[1;31m# Remove a directory\u001b[0m\u001b[1;33m\u001b[0m\u001b[1;33m\u001b[0m\u001b[0m\n\u001b[0;32m      8\u001b[0m \u001b[1;33m\u001b[0m\u001b[0m\n",
      "\u001b[1;31mFileNotFoundError\u001b[0m: [WinError 2] The system cannot find the file specified: 'test'"
     ]
    }
   ],
   "source": [
    "list = os.environ.get('PATH')  # List of PATH Environment variables\n",
    "list = list.split(';')\n",
    "for i in list:\n",
    "    print(i)\n",
    "\n",
    "os.remove('test')  # Remove a file\n",
    "os.rmdir('new_test')  # Remove a directory\n",
    "\n"
   ]
  },
  {
   "cell_type": "code",
   "execution_count": 7,
   "metadata": {},
   "outputs": [
    {
     "name": "stdout",
     "output_type": "stream",
     "text": [
      "False\n",
      "False\n",
      "False\n"
     ]
    }
   ],
   "source": [
    "print(os.path.exists('test'))  # Check if a path exists\n",
    "print(os.path.isfile('test'))  # Check if a file exists\n",
    "print(os.path.isdir('test'))  # Check if a directory exists\n",
    "\n"
   ]
  },
  {
   "cell_type": "code",
   "execution_count": 6,
   "metadata": {},
   "outputs": [
    {
     "name": "stdout",
     "output_type": "stream",
     "text": [
      "0\n"
     ]
    }
   ],
   "source": [
    "print(os.system('dir'))  # Execute a command (like executing in cmd)"
   ]
  },
  {
   "cell_type": "code",
   "execution_count": null,
   "metadata": {},
   "outputs": [],
   "source": []
  }
 ],
 "metadata": {
  "interpreter": {
   "hash": "a25b2d42e0fe57251b6ece2b75d30429fe26895efea1faac6949f166a7477be7"
  },
  "kernelspec": {
   "display_name": "Python 3.10.0 64-bit",
   "language": "python",
   "name": "python3"
  },
  "language_info": {
   "codemirror_mode": {
    "name": "ipython",
    "version": 3
   },
   "file_extension": ".py",
   "mimetype": "text/x-python",
   "name": "python",
   "nbconvert_exporter": "python",
   "pygments_lexer": "ipython3",
   "version": "3.9.7"
  },
  "orig_nbformat": 4
 },
 "nbformat": 4,
 "nbformat_minor": 2
}
