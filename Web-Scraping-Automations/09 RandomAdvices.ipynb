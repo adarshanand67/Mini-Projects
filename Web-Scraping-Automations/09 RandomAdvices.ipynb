{
 "cells": [
  {
   "cell_type": "code",
   "execution_count": 10,
   "metadata": {},
   "outputs": [
    {
     "name": "stdout",
     "output_type": "stream",
     "text": [
      "#146 Advice 1 : Today, do not use the words â€˜Kind of,' â€˜Sort of' or â€˜Maybe.' It either is or it isn't.\n",
      "#16 Advice 2 : It's unlucky to be superstitious.\n",
      "#89 Advice 3 : Don't be afraid to ask questions.\n",
      "#78 Advice 4 : Being kind is more rewarding than being right.\n",
      "#169 Advice 5 : Do something selfless.\n",
      "#1 Advice 6 : Remember that spiders are more afraid of you, than you are of them.\n",
      "#49 Advice 7 : A long walk alone with some time to think, can work wonders.\n",
      "#141 Advice 8 : If you can't do anything about it, there's no point in worrying about it.\n",
      "#171 Advice 9 : If you've nothing nice to say, say nothing.\n",
      "#109 Advice 10 : To cleanly remove the seed from an Avocado, lay a knife firmly across it, and twist.\n",
      "#220 Advice 11 : Most things are not as bad as you think they are.\n",
      "#144 Advice 12 : Pedantry is fine, unless you're on the receiving end. And not a pedant.\n",
      "#172 Advice 13 : If it still itches after a week, go to the doctors.\n",
      "#13 Advice 14 : If you're feeling tired or anxious, a pint of water will almost always make you feel better.\n",
      "#170 Advice 15 : Remedy tickly coughs with a drink of honey, lemon and water as hot as you can take.\n",
      "#136 Advice 16 : Everything matters, but nothing matters that much.\n",
      "#82 Advice 17 : For every complex problem there is an answer that is clear, simple, and wrong.\n",
      "#112 Advice 18 : It's not about who likes you, it's about who you like.\n",
      "#193 Advice 19 : Value the people in your life.\n",
      "#11 Advice 20 : Avoid mixing Ginger Nuts with other biscuits, they contaminate. Keep separated.\n",
      "#136 Advice 21 : Everything matters, but nothing matters that much.\n",
      "#34 Advice 22 : To improve productivity, always have a shittier task to put off.\n",
      "#113 Advice 23 : Lemon and salt works wonders on tarnished brass.\n",
      "#10 Advice 24 : Never pay full price for a sofa at DFS.\n",
      "#20 Advice 25 : Don't put off breaking up with someone when you know you want to. Prolonging the situation only makes it worse.\n",
      "#18 Advice 26 : Don't judge a book by its cover, unless it has a synopsis on the back.\n",
      "#165 Advice 27 : Eliminate the unnecessary.\n",
      "#201 Advice 28 : Don't burn bridges.\n",
      "#152 Advice 29 : Accept advice.\n",
      "#146 Advice 30 : Today, do not use the words â€˜Kind of,' â€˜Sort of' or â€˜Maybe.' It either is or it isn't.\n",
      "#197 Advice 31 : Look people in the eye.\n",
      "#216 Advice 32 : Try making a list.\n",
      "#28 Advice 33 : When you're looking up at birds flying overhead, keep your mouth closed.\n",
      "#93 Advice 34 : The higher up you are in a company, the more likely it is that your boss is a psychopath.\n",
      "#93 Advice 35 : The higher up you are in a company, the more likely it is that your boss is a psychopath.\n",
      "#130 Advice 36 : If you have grandparents or parents - Talk to them more. Ask them about their life experiences.\n",
      "#4 Advice 37 : Cars are bad investments.\n",
      "#88 Advice 38 : Hold the door open for the next person.\n",
      "#187 Advice 39 : The sun always shines above the clouds.\n",
      "#87 Advice 40 : Turn jeans inside out when washing them to help preserve their colour.\n",
      "#219 Advice 41 : Try buying a coffee for the creator of a free public API, now and then.\n",
      "#86 Advice 42 : Never write in an email to someone, something which you wouldn't say to that person's face.\n",
      "#69 Advice 43 : Visitors are like fish: As much as you might like them, after three days they start to smell.\n",
      "#166 Advice 44 : The quieter you become, the more you can hear.\n",
      "#109 Advice 45 : To cleanly remove the seed from an Avocado, lay a knife firmly across it, and twist.\n",
      "#114 Advice 46 : Step 1. Give a shit. Step 2. Don't be a dick. Step 3. Know when to let go.\n",
      "#150 Advice 47 : The most important thing is the thing most easily forgotten.\n",
      "#107 Advice 48 : If you don't ask, you don't get.\n",
      "#65 Advice 49 : When having a clear out, ask yourself if an item has any financial, practical or sentimental value. If not, chuck it.\n",
      "#30 Advice 50 : When in doubt, just take the next small step.\n",
      "#35 Advice 51 : Only those who attempt the impossible can achieve the absurd.\n",
      "#155 Advice 52 : What could you increase? What could you reduce?\n",
      "#136 Advice 53 : Everything matters, but nothing matters that much.\n",
      "#145 Advice 54 : Always the burrito.\n",
      "#31 Advice 55 : Never let your Mother cut your hair.\n",
      "#166 Advice 56 : The quieter you become, the more you can hear.\n",
      "#84 Advice 57 : Never set an alarm clock unless you know how to switch it off\n",
      "#206 Advice 58 : Don't waste food.\n",
      "#198 Advice 59 : Sing in the shower.\n",
      "#170 Advice 60 : Remedy tickly coughs with a drink of honey, lemon and water as hot as you can take.\n",
      "#135 Advice 61 : If you want to be happily married, marry a happy person.\n",
      "#74 Advice 62 : Work is never as important as you think it is.\n",
      "#183 Advice 63 : Always get two ciders.\n",
      "#183 Advice 64 : Always get two ciders.\n",
      "#100 Advice 65 : Everybody makes mistakes.\n",
      "#206 Advice 66 : Don't waste food.\n",
      "#218 Advice 67 : Gratitude is said to be the secret to happiness.\n",
      "#64 Advice 68 : You don't need to floss all of your teeth. Only the ones you want to keep.\n",
      "#181 Advice 69 : Rule number 1: Try not to die. Rule number 2: Don't be a dick.\n",
      "#100 Advice 70 : Everybody makes mistakes.\n",
      "#142 Advice 71 : If you don't like the opinion you've been given, get another one.\n",
      "#138 Advice 72 : Keep it simple.\n",
      "#15 Advice 73 : If it ain't broke don't fix it.\n",
      "#45 Advice 74 : Build something out of LEGO.\n",
      "#7 Advice 75 : Make choices and dont look back.\n",
      "#113 Advice 76 : Lemon and salt works wonders on tarnished brass.\n",
      "#49 Advice 77 : A long walk alone with some time to think, can work wonders.\n",
      "#175 Advice 78 : Plant a tree.\n",
      "#49 Advice 79 : A long walk alone with some time to think, can work wonders.\n",
      "#59 Advice 80 : Don't be afraid of silly ideas.\n",
      "#49 Advice 81 : A long walk alone with some time to think, can work wonders.\n",
      "#72 Advice 82 : Don't eat anything your grandparents wouldn't recognise as food.\n",
      "#177 Advice 83 : Everyone has their down days. Don't take it out on innocent bystanders.\n",
      "#74 Advice 84 : Work is never as important as you think it is.\n",
      "#157 Advice 85 : When something goes wrong in life, just shout \"plot twist!\" and carry on.\n",
      "#167 Advice 86 : No one knows anyone else in the way you do.\n",
      "#12 Advice 87 : Always block trolls.\n",
      "#221 Advice 88 : Share positive energy.\n",
      "#199 Advice 89 : Be brave. Even if you're not, pretend to be. No one can tell the difference.\n",
      "#16 Advice 90 : It's unlucky to be superstitious.\n",
      "#59 Advice 91 : Don't be afraid of silly ideas.\n",
      "#179 Advice 92 : Never regret. If it's good, it's wonderful. If it's bad, it's experience.\n",
      "#94 Advice 93 : Sometimes, you just need to say sorry. Even if it's not your fault.\n",
      "#28 Advice 94 : When you're looking up at birds flying overhead, keep your mouth closed.\n",
      "#12 Advice 95 : Always block trolls.\n",
      "#86 Advice 96 : Never write in an email to someone, something which you wouldn't say to that person's face.\n",
      "#118 Advice 97 : A common regret in life is wishing one had the courage to be ones true self.\n",
      "#196 Advice 98 : Have a firm handshake.\n",
      "#33 Advice 99 : Don't let the bastards grind you down.\n",
      "#117 Advice 100 : A common regret in life is wishing one hadn't worked so hard.\n"
     ]
    }
   ],
   "source": [
    "'''\n",
    "    Adarsh Anand \n",
    "    Give random advice to the user\n",
    "'''\n",
    "\n",
    "import requests\n",
    "\n",
    "advice = []\n",
    "id = []\n",
    "for i in range(0, 5):\n",
    "    url = 'http://api.adviceslip.com/advice'\n",
    "    final_url = requests.get(url).json()\n",
    "    advice.append(final_url['slip']['advice'])\n",
    "    id.append(final_url['slip']['id'])\n",
    "\n",
    "for i in range(0, 5):\n",
    "    print(f\"#{id[i]} Advice {i+1} : {advice[i]}\")\n"
   ]
  },
  {
   "cell_type": "code",
   "execution_count": 4,
   "metadata": {},
   "outputs": [
    {
     "data": {
      "text/plain": [
       "{'slip': {'id': 23,\n",
       "  'advice': \"Your smile could make someone's day, don't forget to wear it.\"}}"
      ]
     },
     "execution_count": 4,
     "metadata": {},
     "output_type": "execute_result"
    }
   ],
   "source": [
    "url = 'http://api.adviceslip.com/advice'\n",
    "final_url = requests.get(url).json()\n",
    "final_url"
   ]
  },
  {
   "cell_type": "code",
   "execution_count": 6,
   "metadata": {},
   "outputs": [
    {
     "data": {
      "text/plain": [
       "\"Your smile could make someone's day, don't forget to wear it.\""
      ]
     },
     "execution_count": 6,
     "metadata": {},
     "output_type": "execute_result"
    }
   ],
   "source": [
    "final_url['slip']['advice']"
   ]
  }
 ],
 "metadata": {
  "interpreter": {
   "hash": "a25b2d42e0fe57251b6ece2b75d30429fe26895efea1faac6949f166a7477be7"
  },
  "kernelspec": {
   "display_name": "Python 3.10.0 64-bit",
   "language": "python",
   "name": "python3"
  },
  "language_info": {
   "codemirror_mode": {
    "name": "ipython",
    "version": 3
   },
   "file_extension": ".py",
   "mimetype": "text/x-python",
   "name": "python",
   "nbconvert_exporter": "python",
   "pygments_lexer": "ipython3",
   "version": "3.9.7"
  },
  "orig_nbformat": 4
 },
 "nbformat": 4,
 "nbformat_minor": 2
}
