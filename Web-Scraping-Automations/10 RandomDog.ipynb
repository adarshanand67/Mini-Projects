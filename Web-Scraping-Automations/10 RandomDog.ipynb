{
 "cells": [
  {
   "cell_type": "code",
   "execution_count": 50,
   "metadata": {},
   "outputs": [],
   "source": [
    "'''\n",
    "    Adarsh Anand \n",
    "    Give random Dog details from the Dog API\n",
    "    PS - Cheems Supremacy\n",
    "'''\n",
    "import requests\n",
    "import pprint\n",
    "from IPython.display import Image"
   ]
  },
  {
   "cell_type": "code",
   "execution_count": 58,
   "metadata": {},
   "outputs": [
    {
     "name": "stdout",
     "output_type": "stream",
     "text": [
      "[   {   'breeds': [   {   'bred_for': 'Hunting in the mountains of Japan, '\n",
      "                                      'Alert Watchdog',\n",
      "                          'breed_group': 'Non-Sporting',\n",
      "                          'height': {   'imperial': '13.5 - 16.5',\n",
      "                                        'metric': '34 - 42'},\n",
      "                          'id': 222,\n",
      "                          'life_span': '12 - 16 years',\n",
      "                          'name': 'Shiba Inu',\n",
      "                          'reference_image_id': 'Zn3IjPX3f',\n",
      "                          'temperament': 'Charming, Fearless, Keen, Alert, '\n",
      "                                         'Confident, Faithful',\n",
      "                          'weight': {   'imperial': '17 - 23',\n",
      "                                        'metric': '8 - 10'}}],\n",
      "        'height': 720,\n",
      "        'id': 'a4dzJ1h49',\n",
      "        'url': 'https://cdn2.thedogapi.com/images/a4dzJ1h49.jpg',\n",
      "        'width': 720}]\n"
     ]
    },
    {
     "data": {
      "text/html": [
       "<img src=\"https://cdn2.thedogapi.com/images/a4dzJ1h49.jpg\" width=\"500\"/>"
      ],
      "text/plain": [
       "<IPython.core.display.Image object>"
      ]
     },
     "execution_count": 58,
     "metadata": {},
     "output_type": "execute_result"
    }
   ],
   "source": [
    "url = \"https://api.thedogapi.com/v1/images/search\"\n",
    "\n",
    "content = requests.get(url).json()\n",
    "\n",
    "pretty_print = pprint.PrettyPrinter(indent=4)\n",
    "pretty_print.pprint(content)\n",
    "\n",
    "Image(url=content[0]['url'], width=500)\n"
   ]
  },
  {
   "cell_type": "code",
   "execution_count": 59,
   "metadata": {},
   "outputs": [
    {
     "name": "stdout",
     "output_type": "stream",
     "text": [
      "Name : Shiba Inu\n",
      "Role : Hunting in the mountains of Japan, Alert Watchdog\n",
      "Life Span : 12 - 16 years\n",
      "Qualities : Charming, Fearless, Keen, Alert, Confident, Faithful\n"
     ]
    }
   ],
   "source": [
    "# get the name of the dog\n",
    "name = (content[0]['breeds'][0]['name'])\n",
    "breed = (content[0]['breeds'][0]['bred_for'])\n",
    "life_span = (content[0]['breeds'][0]['life_span'])\n",
    "qualities = content[0]['breeds'][0]['temperament']\n",
    "\n",
    "\n",
    "print(\"Name : \" + name)\n",
    "print(\"Role : \" + breed)\n",
    "print(\"Life Span : \" + life_span)\n",
    "print(\"Qualities : \" + qualities)\n"
   ]
  }
 ],
 "metadata": {
  "interpreter": {
   "hash": "a25b2d42e0fe57251b6ece2b75d30429fe26895efea1faac6949f166a7477be7"
  },
  "kernelspec": {
   "display_name": "Python 3.10.0 64-bit",
   "language": "python",
   "name": "python3"
  },
  "language_info": {
   "codemirror_mode": {
    "name": "ipython",
    "version": 3
   },
   "file_extension": ".py",
   "mimetype": "text/x-python",
   "name": "python",
   "nbconvert_exporter": "python",
   "pygments_lexer": "ipython3",
   "version": "3.10.0"
  },
  "orig_nbformat": 4
 },
 "nbformat": 4,
 "nbformat_minor": 2
}
