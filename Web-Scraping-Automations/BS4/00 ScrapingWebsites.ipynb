{
 "cells": [
  {
   "cell_type": "code",
   "execution_count": 1,
   "metadata": {},
   "outputs": [],
   "source": [
    "'''\n",
    "    Adarsh Anand -> Code with Harry\n",
    "    Learning Web Scraping with Python\n",
    "    Learn Regular Expressions\n",
    "    Docs - https://www.crummy.com/software/BeautifulSoup/bs4/doc/\n",
    "'''\n",
    "\n",
    "import requests\n",
    "from bs4 import BeautifulSoup\n",
    "\n",
    "# BeautifulSoup is a data structure that allows us to parse HTML and XML documents.\n",
    "\n",
    "url = \"https://www.codewithharry.com/\" # Website to be scraped\n",
    "\n",
    "# 3 Steps :- \n",
    "# Get the HTML\n",
    "# Parse the HTML\n",
    "# Tree traversal of the HTML\n",
    "\n",
    "content = requests.get(url).content # Get the HTML unparsed\n",
    "soup = BeautifulSoup(content, \"html.parser\") # Parse the HTML\n"
   ]
  },
  {
   "cell_type": "code",
   "execution_count": 2,
   "metadata": {},
   "outputs": [
    {
     "name": "stdout",
     "output_type": "stream",
     "text": [
      "<title>Home - CodeWithHarry</title>\n",
      "Home - CodeWithHarry\n"
     ]
    }
   ],
   "source": [
    "title = soup.title # Get the title of the website\n",
    "print(title)\n",
    "print(title.string) # Get the string of the text"
   ]
  },
  {
   "cell_type": "code",
   "execution_count": 3,
   "metadata": {},
   "outputs": [
    {
     "name": "stdout",
     "output_type": "stream",
     "text": [
      "[<p _ngcontent-sc67=\"\" class=\"lead text-muted\">Confused on which course to take? I have got you covered. Browse courses and find out the best course for you. Its free!<br _ngcontent-sc67=\"\"/>Code With Harry is my attempt to teach basics and those coding techniques to people in short time which took me ages to learn.</p>, <p _ngcontent-sc67=\"\"><a _ngcontent-sc67=\"\" class=\"btn btn-danger my-2\" href=\"/blog\" routerlink=\"/blog\">Browse Blog</a><a _ngcontent-sc67=\"\" class=\"btn btn-success my-2\" href=\"/videos\" routerlink=\"/videos\">Browse Video Tutorials</a><a _ngcontent-sc67=\"\" class=\"btn btn-primary my-2\" href=\"/contact\" routerlink=\"/contact\">Contact Me</a></p>, <p _ngcontent-sc67=\"\" class=\"card-text text-center\">Get your programming career started with these free video courses. Source code is available with all the videos for amazing learning experience</p>, <p _ngcontent-sc67=\"\" class=\"card-text text-center\">Some of the latest coding information compiled in the form of coding articles. Keep your programming knowledge up to date with these articles.</p>, <p _ngcontent-sc67=\"\" class=\"card-text text-center\">Learn programming from these free courses. Examples are available with these tutorials. You can contact me for any doubt and I will get back to you!</p>, <p _ngcontent-sc75=\"\" class=\"mb-0 text-center\">Copyright © 2020-2021 CodeWithHarry.com</p>]\n",
      "[<a _ngcontent-sc74=\"\" class=\"navbar-brand\" href=\"/\" routerlink=\"/\"><img _ngcontent-sc74=\"\" alt=\"CodeWithHarry\" class=\"brandLogo\" height=\"39px\" src=\"../../../assets/img/logo.png\" width=\"39px\"/></a>, <a _ngcontent-sc74=\"\" class=\"nav-link\" href=\"/\" routerlink=\"/\">Home</a>, <a _ngcontent-sc74=\"\" class=\"nav-link\" href=\"/videos\" routerlink=\"/videos\">Videos</a>, <a _ngcontent-sc74=\"\" class=\"nav-link\" href=\"/blog\" routerlink=\"/blog\">Blog</a>, <a _ngcontent-sc74=\"\" class=\"nav-link\" href=\"/contact\" routerlink=\"/contact\">Contact Me</a>, <a _ngcontent-sc67=\"\" class=\"btn btn-danger my-2\" href=\"/blog\" routerlink=\"/blog\">Browse Blog</a>, <a _ngcontent-sc67=\"\" class=\"btn btn-success my-2\" href=\"/videos\" routerlink=\"/videos\">Browse Video Tutorials</a>, <a _ngcontent-sc67=\"\" class=\"btn btn-primary my-2\" href=\"/contact\" routerlink=\"/contact\">Contact Me</a>, <a _ngcontent-sc67=\"\" class=\"btn btn-primary d-block\" href=\"/videos\" routerlink=\"/videos\">Browse Video Courses</a>, <a _ngcontent-sc67=\"\" class=\"btn btn-primary d-block\" href=\"/blog\" routerlink=\"/blog\">Go to Blog</a>, <a _ngcontent-sc67=\"\" class=\"btn btn-primary d-block\" href=\"/contact\" routerlink=\"/contact\">Contact Me</a>]\n"
     ]
    }
   ],
   "source": [
    "paragraphs = soup.find_all(\"p\") # Get all the paragraphs\n",
    "print(paragraphs)\n",
    "\n",
    "anchors = soup.find_all(\"a\") # Get all the anchors\n",
    "print(anchors)\n"
   ]
  },
  {
   "cell_type": "code",
   "execution_count": 4,
   "metadata": {},
   "outputs": [
    {
     "name": "stdout",
     "output_type": "stream",
     "text": [
      "[<p _ngcontent-sc67=\"\" class=\"lead text-muted\">Confused on which course to take? I have got you covered. Browse courses and find out the best course for you. Its free!<br _ngcontent-sc67=\"\"/>Code With Harry is my attempt to teach basics and those coding techniques to people in short time which took me ages to learn.</p>, <p _ngcontent-sc67=\"\"><a _ngcontent-sc67=\"\" class=\"btn btn-danger my-2\" href=\"/blog\" routerlink=\"/blog\">Browse Blog</a><a _ngcontent-sc67=\"\" class=\"btn btn-success my-2\" href=\"/videos\" routerlink=\"/videos\">Browse Video Tutorials</a><a _ngcontent-sc67=\"\" class=\"btn btn-primary my-2\" href=\"/contact\" routerlink=\"/contact\">Contact Me</a></p>, <p _ngcontent-sc67=\"\" class=\"card-text text-center\">Get your programming career started with these free video courses. Source code is available with all the videos for amazing learning experience</p>, <p _ngcontent-sc67=\"\" class=\"card-text text-center\">Some of the latest coding information compiled in the form of coding articles. Keep your programming knowledge up to date with these articles.</p>, <p _ngcontent-sc67=\"\" class=\"card-text text-center\">Learn programming from these free courses. Examples are available with these tutorials. You can contact me for any doubt and I will get back to you!</p>, <p _ngcontent-sc75=\"\" class=\"mb-0 text-center\">Copyright © 2020-2021 CodeWithHarry.com</p>]\n",
      "<p _ngcontent-sc67=\"\" class=\"lead text-muted\">Confused on which course to take? I have got you covered. Browse courses and find out the best course for you. Its free!<br _ngcontent-sc67=\"\"/>Code With Harry is my attempt to teach basics and those coding techniques to people in short time which took me ages to learn.</p>\n"
     ]
    }
   ],
   "source": [
    "print(soup.find_all('p')) # prints a list of all the <p> tags\n",
    "print(soup.find_all('p')[0]) # prints the first <p> tag\n"
   ]
  },
  {
   "cell_type": "code",
   "execution_count": 5,
   "metadata": {},
   "outputs": [
    {
     "name": "stdout",
     "output_type": "stream",
     "text": [
      "['lead', 'text-muted']\n"
     ]
    }
   ],
   "source": [
    "print(soup.find('p')['class'])  # return a list of classes named 'class' for the first <p> tag"
   ]
  },
  {
   "cell_type": "code",
   "execution_count": 6,
   "metadata": {},
   "outputs": [
    {
     "name": "stdout",
     "output_type": "stream",
     "text": [
      "lead\n"
     ]
    }
   ],
   "source": [
    "print(soup.find('p')['class'][0])  # returns the first class"
   ]
  },
  {
   "cell_type": "code",
   "execution_count": 7,
   "metadata": {},
   "outputs": [
    {
     "name": "stdout",
     "output_type": "stream",
     "text": [
      "[<p _ngcontent-sc67=\"\" class=\"lead text-muted\">Confused on which course to take? I have got you covered. Browse courses and find out the best course for you. Its free!<br _ngcontent-sc67=\"\"/>Code With Harry is my attempt to teach basics and those coding techniques to people in short time which took me ages to learn.</p>]\n",
      "Confused on which course to take? I have got you covered. Browse courses and find out the best course for you. Its free!Code With Harry is my attempt to teach basics and those coding techniques to people in short time which took me ages to learn.\n"
     ]
    }
   ],
   "source": [
    "# all element with class lead\n",
    "print(soup.find_all('p', class_='lead'))\n",
    "\n",
    "# get text from the first paragraph\n",
    "print(soup.find_all('p')[0].get_text())\n"
   ]
  },
  {
   "cell_type": "code",
   "execution_count": 8,
   "metadata": {},
   "outputs": [
    {
     "name": "stdout",
     "output_type": "stream",
     "text": [
      "<a _ngcontent-sc74=\"\" class=\"navbar-brand\" href=\"/\" routerlink=\"/\"><img _ngcontent-sc74=\"\" alt=\"CodeWithHarry\" class=\"brandLogo\" height=\"39px\" src=\"../../../assets/img/logo.png\" width=\"39px\"/></a>\n",
      "https://www.codewithharry.com/\n",
      "https://www.codewithharry.com/\n",
      "https://www.codewithharry.com/videos\n",
      "https://www.codewithharry.com/blog\n",
      "https://www.codewithharry.com/contact\n",
      "https://www.codewithharry.com/blog\n",
      "https://www.codewithharry.com/videos\n",
      "https://www.codewithharry.com/contact\n",
      "https://www.codewithharry.com/videos\n",
      "https://www.codewithharry.com/blog\n",
      "https://www.codewithharry.com/contact\n"
     ]
    }
   ],
   "source": [
    "anchors = soup.find_all('a') #Get list of all <a> tags\n",
    "print(anchors[0])\n",
    "all_links = set() #Create an empty set\n",
    "for link in anchors:\n",
    "    if(link != None):\n",
    "        link = \"https://www.codewithharry.com\" + link['href'] #Add the full link to the set\n",
    "        print(link)"
   ]
  },
  {
   "cell_type": "code",
   "execution_count": 9,
   "metadata": {},
   "outputs": [
    {
     "name": "stdout",
     "output_type": "stream",
     "text": [
      "<p _ngcontent-sc67=\"\" class=\"lead text-muted\">Confused on which course to take? I have got you covered. Browse courses and find out the best course for you. Its free!<br _ngcontent-sc67=\"\"/>Code With Harry is my attempt to teach basics and those coding techniques to people in short time which took me ages to learn.</p>\n",
      "Confused on which course to take? I have got you covered. Browse courses and find out the best course for you. Its free!\n",
      "Code With Harry is my attempt to teach basics and those coding techniques to people in short time which took me ages to learn.\n"
     ]
    }
   ],
   "source": [
    "first_para = soup.find_all('p')[0] # Get the first <p> tag\n",
    "print(first_para) \n",
    "for item in first_para.strings: # Get all the strings(in between the tags) in the first <p> tag\n",
    "    if(item != '\\n'):\n",
    "        print(item)"
   ]
  },
  {
   "cell_type": "code",
   "execution_count": 10,
   "metadata": {},
   "outputs": [
    {
     "name": "stdout",
     "output_type": "stream",
     "text": [
      "<div _ngcontent-sc67=\"\" class=\"container\"><img _ngcontent-sc67=\"\" alt=\"logo\" src=\"../../../assets/img/logo.png\" width=\"120\"/><h1 _ngcontent-sc67=\"\" class=\"jumbotron-heading\"><span _ngcontent-sc67=\"\" id=\"typed\"></span></h1><p _ngcontent-sc67=\"\" class=\"lead text-muted\">Confused on which course to take? I have got you covered. Browse courses and find out the best course for you. Its free!<br _ngcontent-sc67=\"\"/>Code With Harry is my attempt to teach basics and those coding techniques to people in short time which took me ages to learn.</p><p _ngcontent-sc67=\"\"><a _ngcontent-sc67=\"\" class=\"btn btn-danger my-2\" href=\"/blog\" routerlink=\"/blog\">Browse Blog</a><a _ngcontent-sc67=\"\" class=\"btn btn-success my-2\" href=\"/videos\" routerlink=\"/videos\">Browse Video Tutorials</a><a _ngcontent-sc67=\"\" class=\"btn btn-primary my-2\" href=\"/contact\" routerlink=\"/contact\">Contact Me</a></p></div>\n",
      "<p _ngcontent-sc67=\"\" class=\"lead text-muted\">Confused on which course to take? I have got you covered. Browse courses and find out the best course for you. Its free!<br _ngcontent-sc67=\"\"/>Code With Harry is my attempt to teach basics and those coding techniques to people in short time which took me ages to learn.</p>\n"
     ]
    }
   ],
   "source": [
    "second_para = soup.find_all('p')[1] #Get the second <p> tag\n",
    "second_para_text = second_para.get_text() #Get the text in the second <p> tag\n",
    "first_para = second_para.parent\n",
    "\n",
    "print(first_para) #Get the parent of the second <p> tag which includes div and h2 tags\n",
    "first_para1 = soup.find_all('p')[0]\n",
    "print(first_para1)"
   ]
  },
  {
   "cell_type": "code",
   "execution_count": 11,
   "metadata": {},
   "outputs": [
    {
     "name": "stdout",
     "output_type": "stream",
     "text": [
      "None\n",
      "<p _ngcontent-sc67=\"\" class=\"lead text-muted\">Confused on which course to take? I have got you covered. Browse courses and find out the best course for you. Its free!<br _ngcontent-sc67=\"\"/>Code With Harry is my attempt to teach basics and those coding techniques to people in short time which took me ages to learn.</p>\n",
      "<div _ngcontent-sc67=\"\" class=\"container\"><img _ngcontent-sc67=\"\" alt=\"logo\" src=\"../../../assets/img/logo.png\" width=\"120\"/><h1 _ngcontent-sc67=\"\" class=\"jumbotron-heading\"><span _ngcontent-sc67=\"\" id=\"typed\"></span></h1><p _ngcontent-sc67=\"\" class=\"lead text-muted\">Confused on which course to take? I have got you covered. Browse courses and find out the best course for you. Its free!<br _ngcontent-sc67=\"\"/>Code With Harry is my attempt to teach basics and those coding techniques to people in short time which took me ages to learn.</p><p _ngcontent-sc67=\"\"><a _ngcontent-sc67=\"\" class=\"btn btn-danger my-2\" href=\"/blog\" routerlink=\"/blog\">Browse Blog</a><a _ngcontent-sc67=\"\" class=\"btn btn-success my-2\" href=\"/videos\" routerlink=\"/videos\">Browse Video Tutorials</a><a _ngcontent-sc67=\"\" class=\"btn btn-primary my-2\" href=\"/contact\" routerlink=\"/contact\">Contact Me</a></p></div>\n"
     ]
    }
   ],
   "source": [
    "print(second_para.next_sibling) # Get the next sibling of the second <p> tag\n",
    "print(second_para.previous_sibling) # prints the previous sibling\n",
    "print(second_para.parent) # Get the parent of the second <p> tag which includes div and h2 tags"
   ]
  },
  {
   "cell_type": "code",
   "execution_count": 12,
   "metadata": {},
   "outputs": [
    {
     "name": "stdout",
     "output_type": "stream",
     "text": [
      "/\n",
      "/\n",
      "/videos\n",
      "/blog\n",
      "/contact\n",
      "/blog\n",
      "/videos\n",
      "/contact\n",
      "/videos\n",
      "/blog\n",
      "/contact\n"
     ]
    }
   ],
   "source": [
    "# Extracting all the URL\n",
    "allTHeLinks = soup.find_all('a')\n",
    "for link in allTHeLinks:\n",
    "    print(link.get('href')) # Get the href attribute  of the <a> tag\n",
    "# Note in the example here we have internal linking "
   ]
  }
 ],
 "metadata": {
  "interpreter": {
   "hash": "a12d694c3ccac42055183a0ad11e659c6a2db5c6555ad2c8919d5814fd4e404f"
  },
  "kernelspec": {
   "display_name": "Python 3.9.7 64-bit",
   "name": "python3"
  },
  "language_info": {
   "codemirror_mode": {
    "name": "ipython",
    "version": 3
   },
   "file_extension": ".py",
   "mimetype": "text/x-python",
   "name": "python",
   "nbconvert_exporter": "python",
   "pygments_lexer": "ipython3",
   "version": "3.9.7"
  },
  "orig_nbformat": 4
 },
 "nbformat": 4,
 "nbformat_minor": 2
}
