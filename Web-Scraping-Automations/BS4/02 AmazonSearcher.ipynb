{
 "cells": [
  {
   "cell_type": "code",
   "execution_count": 2,
   "metadata": {},
   "outputs": [],
   "source": [
    "'''\n",
    "    Adarsh Anand \n",
    "    Scraping data from Amazon.in to get the product details\n",
    "    Just Enter your ASIN 10 digit number\n",
    "'''\n",
    "\n",
    "from bs4 import BeautifulSoup\n",
    "import requests\n",
    "from requests import get\n",
    "from urllib.request import urlopen\n",
    "from IPython.display import Image\n",
    "headers = {\n",
    "    'User-Agent': \"Mozilla/5.0 (Windows NT 10.0; Win64; x64; rv: 94.0) Gecko/20100101 Firefox/94.0\"\n",
    "}"
   ]
  },
  {
   "cell_type": "code",
   "execution_count": 3,
   "metadata": {},
   "outputs": [],
   "source": [
    "# Scraping a product from Amazon.in\n",
    "\n",
    "asin = input(\"Enter the ASIN Number: \")\n",
    "url = \"https://www.amazon.in/dp/\" + asin + \"/\" #General format of the url\n",
    "content = requests.get(url, headers=headers).text #Getting the content of the url\n",
    "soup = BeautifulSoup(urlopen(url), \"html.parser\") \n",
    "# print(content)"
   ]
  },
  {
   "cell_type": "code",
   "execution_count": 4,
   "metadata": {},
   "outputs": [
    {
     "data": {
      "image/jpeg": "[encoded data removed]",
      "text/plain": [
       "<IPython.core.display.Image object>"
      ]
     },
     "execution_count": 4,
     "metadata": {},
     "output_type": "execute_result"
    }
   ],
   "source": [
    "image = soup.find(\"img\", id=\"landingImage\").get(\"src\")\n",
    "\n",
    "# show image in terminal\n",
    "Image(url=image,embed=True)"
   ]
  },
  {
   "cell_type": "code",
   "execution_count": 5,
   "metadata": {},
   "outputs": [
    {
     "name": "stdout",
     "output_type": "stream",
     "text": [
      "Name : boAt Rockerz 550 Over-Ear Wireless Headphone with Ergonomic Aesthetics, Plush Padded Earcups, Immersive Audio, Bluetooth v5.0 & Upto 20H Playback(Black Symphony)\n",
      "Rating : 27,125 ratings\n"
     ]
    }
   ],
   "source": [
    "# name\n",
    "try:\n",
    "    product_name = soup.find(\"span\", id=\"productTitle\").text.strip()\n",
    "    print(\"Name : \" + product_name)\n",
    "except:\n",
    "    pass\n",
    "\n",
    "# price\n",
    "try:\n",
    "    price = soup.find(\"span\", id=\"priceblock_ourprice\").text.strip()\n",
    "    print(\"Price : \" + price)\n",
    "except:\n",
    "   pass\n",
    "\n",
    "# rating\n",
    "try:\n",
    "    rating = soup.find(\"span\", id=\"acrCustomerReviewText\").text\n",
    "    print(\"Rating : \" + rating)\n",
    "except:\n",
    "    pass\n"
   ]
  },
  {
   "cell_type": "code",
   "execution_count": 6,
   "metadata": {},
   "outputs": [
    {
     "name": "stdout",
     "output_type": "stream",
     "text": [
      "ASIN : B08R7M1JM5\n",
      "Category : Electronics > Headphones > Over-Ear\n",
      "Delivery : Tuesday, Nov 9\n",
      "Warranty : Pay on Delivery\n"
     ]
    }
   ],
   "source": [
    "# asin\n",
    "print(\"ASIN : \" + asin)\n",
    "\n",
    "# category\n",
    "category = soup.find(\n",
    "    \"div\", id=\"wayfinding-breadcrumbs_feature_div\").text.split(\"›\")\n",
    "print(\"Category :\", end=\" \")\n",
    "for i in range(len(category)-1):\n",
    "    print(category[i].strip(), end=\" > \")\n",
    "print(category[-1].strip())\n",
    "\n",
    "# delivery\n",
    "try:\n",
    "    delivery = soup.find(\"div\", id=\"ddmDeliveryMessage\").b.text.strip()\n",
    "    print(\"Delivery : \" + delivery)\n",
    "except:\n",
    "    pass\n",
    "\n",
    "# payment\n",
    "try:\n",
    "    payment = soup.find(\n",
    "        class_=\"a-section a-spacing-none icon-content\").a.text.strip()\n",
    "    print(\"Warranty : \" + payment)\n",
    "except:\n",
    "    pass\n"
   ]
  },
  {
   "cell_type": "code",
   "execution_count": 7,
   "metadata": {},
   "outputs": [
    {
     "name": "stdout",
     "output_type": "stream",
     "text": [
      "Stock : In stock\n",
      "Seller : Sold by Appario Retail Private Ltd and Fulfilled by Amazon.\n",
      "Brand : ‎BoAt\n"
     ]
    }
   ],
   "source": [
    "\n",
    "# stock\n",
    "try:\n",
    "    stock = soup.find(\"div\", id=\"availability\").span.text.strip()\n",
    "    print(\"Stock : \" + stock[:-1])\n",
    "except:\n",
    "    pass\n",
    "\n",
    "# seller\n",
    "try:\n",
    "    seller = soup.find(\"div\", id=\"merchant-info\").text.strip()\n",
    "    print(\"Seller : \" + seller)\n",
    "except:\n",
    "    pass\n",
    "\n",
    "# brand\n",
    "try:\n",
    "    brand = soup.find(class_=\"a-size-base prodDetAttrValue\").text.strip()\n",
    "    print(\"Brand : \" + brand)\n",
    "except:\n",
    "    pass\n",
    "\n",
    "# ratings\n",
    "try:\n",
    "    ratings = soup.find(\n",
    "        class_=\"a-icon a-icon-star a-star-4-5\").span.text.strip()\n",
    "    print(\"Ratings : \" + ratings)\n",
    "except:\n",
    "    pass\n",
    "\n"
   ]
  },
  {
   "cell_type": "code",
   "execution_count": 8,
   "metadata": {},
   "outputs": [
    {
     "name": "stdout",
     "output_type": "stream",
     "text": [
      "Description : Tap into instant wireless connectivity with the latest Bluetooth V5.0Its 50mm dynamic drivers help pump out immersive audio all day longThe mighty 500mAh battery capacity offers a superior playback time of up to 20 HoursOne can connect to boAt Rockerz 550 via not one but two modes, Bluetooth as well as AUX1 year warranty from the date of purchase\n"
     ]
    }
   ],
   "source": [
    "\n",
    "# description\n",
    "description = soup.find(\n",
    "    class_=\"a-unordered-list a-vertical a-spacing-mini\").text\n",
    "temp = description.split(\"\\n\")\n",
    "description = \"\"\n",
    "for i in range(len(temp)):\n",
    "    description += temp[i].strip()\n",
    "print(\"Description : \" + description)\n"
   ]
  },
  {
   "cell_type": "code",
   "execution_count": 9,
   "metadata": {},
   "outputs": [
    {
     "name": "stdout",
     "output_type": "stream",
     "text": [
      "Name : boAt Rockerz 550 Over-Ear Wireless Headphone with Ergonomic Aesthetics, Plush Padded Earcups, Immersive Audio, Bluetooth v5.0 & Upto 20H Playback(Black Symphony)\n",
      "Rating : 27,125 ratings\n",
      "ASIN : B08R7M1JM5\n",
      "Category : Electronics > Headphones > Over-Ear\n",
      "Delivery : Tuesday, Nov 9\n",
      "Warranty : Pay on Delivery\n",
      "Stock : In stock\n",
      "Seller : Sold by Appario Retail Private Ltd and Fulfilled by Amazon.\n",
      "Brand : ‎BoAt\n",
      "Description : Tap into instant wireless connectivity with the latest Bluetooth V5.0Its 50mm dynamic drivers help pump out immersive audio all day longThe mighty 500mAh battery capacity offers a superior playback time of up to 20 HoursOne can connect to boAt Rockerz 550 via not one but two modes, Bluetooth as well as AUX1 year warranty from the date of purchase\n"
     ]
    }
   ],
   "source": [
    "\n",
    "# name\n",
    "try:\n",
    "    product_name = soup.find(\"span\", id=\"productTitle\").text.strip()\n",
    "    print(\"Name : \" + product_name)\n",
    "except:\n",
    "    pass\n",
    "\n",
    "# price\n",
    "try:\n",
    "    price = soup.find(\"span\", id=\"priceblock_ourprice\").text.strip()\n",
    "    print(\"Price : \" + price)\n",
    "except:\n",
    "   pass\n",
    "\n",
    "# rating\n",
    "try:\n",
    "    rating = soup.find(\"span\", id=\"acrCustomerReviewText\").text\n",
    "    print(\"Rating : \" + rating)\n",
    "except:\n",
    "    pass\n",
    "\n",
    "# asin\n",
    "print(\"ASIN : \" + asin)\n",
    "\n",
    "# category\n",
    "category = soup.find(\n",
    "    \"div\", id=\"wayfinding-breadcrumbs_feature_div\").text.split(\"›\")\n",
    "print(\"Category :\", end=\" \")\n",
    "for i in range(len(category)-1):\n",
    "    print(category[i].strip(), end=\" > \")\n",
    "print(category[-1].strip())\n",
    "\n",
    "# delivery\n",
    "try:\n",
    "    delivery = soup.find(\"div\", id=\"ddmDeliveryMessage\").b.text.strip()\n",
    "    print(\"Delivery : \" + delivery)\n",
    "except:\n",
    "    pass\n",
    "\n",
    "# payment\n",
    "try:\n",
    "    payment = soup.find(\n",
    "        class_=\"a-section a-spacing-none icon-content\").a.text.strip()\n",
    "    print(\"Warranty : \" + payment)\n",
    "except:\n",
    "    pass\n",
    "\n",
    "\n",
    "# stock\n",
    "try:\n",
    "    stock = soup.find(\"div\", id=\"availability\").span.text.strip()\n",
    "    print(\"Stock : \" + stock[:-1])\n",
    "except:\n",
    "    pass\n",
    "\n",
    "# seller\n",
    "try:\n",
    "    seller = soup.find(\"div\", id=\"merchant-info\").text.strip()\n",
    "    print(\"Seller : \" + seller)\n",
    "except:\n",
    "    pass\n",
    "\n",
    "# brand\n",
    "try:\n",
    "    brand = soup.find(class_=\"a-size-base prodDetAttrValue\").text.strip()\n",
    "    print(\"Brand : \" + brand)\n",
    "except:\n",
    "    pass\n",
    "\n",
    "# ratings\n",
    "try:\n",
    "    ratings = soup.find(\n",
    "        class_=\"a-icon a-icon-star a-star-4-5\").span.text.strip()\n",
    "    print(\"Ratings : \" + ratings)\n",
    "except:\n",
    "    pass\n",
    "\n",
    "\n",
    "# description\n",
    "description = soup.find(\n",
    "    class_=\"a-unordered-list a-vertical a-spacing-mini\").text\n",
    "temp = description.split(\"\\n\")\n",
    "description = \"\"\n",
    "for i in range(len(temp)):\n",
    "    description += temp[i].strip()\n",
    "print(\"Description : \" + description)\n"
   ]
  }
 ],
 "metadata": {
  "interpreter": {
   "hash": "a12d694c3ccac42055183a0ad11e659c6a2db5c6555ad2c8919d5814fd4e404f"
  },
  "kernelspec": {
   "display_name": "Python 3.9.7 64-bit",
   "language": "python",
   "name": "python3"
  },
  "language_info": {
   "codemirror_mode": {
    "name": "ipython",
    "version": 3
   },
   "file_extension": ".py",
   "mimetype": "text/x-python",
   "name": "python",
   "nbconvert_exporter": "python",
   "pygments_lexer": "ipython3",
   "version": "3.9.7"
  },
  "orig_nbformat": 4
 },
 "nbformat": 4,
 "nbformat_minor": 2
}
