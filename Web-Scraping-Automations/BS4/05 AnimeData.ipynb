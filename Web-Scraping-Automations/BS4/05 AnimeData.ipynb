{
 "cells": [
  {
   "cell_type": "code",
   "execution_count": 1,
   "metadata": {},
   "outputs": [],
   "source": [
    "'''\n",
    "    Adarsh Anand \n",
    "    Scraping data from the AnimePlanet website https://www.anime-planet.com/\n",
    "'''\n",
    "\n",
    "import requests\n",
    "from bs4 import BeautifulSoup\n",
    "import urllib.parse as parse\n",
    "import re\n",
    "from IPython.display import Image\n"
   ]
  },
  {
   "cell_type": "markdown",
   "metadata": {},
   "source": [
    "<img src = \"data:image/jpeg;base64,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\">"
   ]
  },
  {
   "cell_type": "code",
   "execution_count": 2,
   "metadata": {},
   "outputs": [],
   "source": [
    "def details(soup):\n",
    "    info = soup.find(\"div\", {\"class\": \"pure-1 md-3-5\"})\n",
    "    print(\"About the Anime : \\n\", \"  \", info.find(\"p\").getText(), \"\\n\")\n",
    "\n",
    "    # using regex for only selecting numbers\n",
    "    total_episodes = soup.find(\"div\", {\"class\": \"pure-1 md-1-5\"})\n",
    "    print(\n",
    "        \"Total number of episodes : \",\n",
    "        re.sub(\"[^0-9]\", \"\", total_episodes.find(\"span\").getText()),\n",
    "    )\n",
    "\n",
    "    Active_years = soup.find(\"span\", {\"class\": \"iconYear\"})\n",
    "    print(\"Years Active (From-To) : \", Active_years.getText(), \"\\n\")\n",
    "\n",
    "    rating = soup.find(\"div\", {\"class\": \"avgRating\"})\n",
    "    print(\"Rating : \", rating.find(\"span\").getText())\n",
    "\n",
    "    tags = soup.find(\"div\", {\"class\": \"tags\"})\n",
    "    list = []\n",
    "    for _ in range(4):\n",
    "        list.append(tags.find(\"ul\").getText())\n",
    "    print(\"Tags :\")\n",
    "    \n",
    "    print((list[0].replace(\"\\n\", \" \")))\n"
   ]
  },
  {
   "cell_type": "code",
   "execution_count": 3,
   "metadata": {},
   "outputs": [
    {
     "name": "stdout",
     "output_type": "stream",
     "text": [
      "Death-Note\n",
      "About the Anime : \n",
      "    Have you ever felt like the world would be a better place if certain people weren’t around? Such grim daydreams might occur when watching the dismal daily news, but on one fateful day, Light Yagami finds that these daydreams can become reality. By pure happenstance, he comes across a black notebook entitled \"Death Note\", whose text within states that whoever's name is written on its pages will die. With the aid of the death god Ryuk, Light takes it upon himself to rid the world of its corruption, ushering in a new era of purity one death at a time. But as Ryuk foretells, Light's actions will not go unchallenged... \n",
      "\n",
      "Total number of episodes :  37\n",
      "Years Active (From-To) :   2006 - 2007  \n",
      "\n",
      "Rating :  4.327 out of 5 from 162,176 votes\n",
      "Tags :\n",
      "   Mystery     Shounen     Crime     Criminals     Detectives      Mind Games     Overpowered Main Characters     Psychological     Psychopaths     Rivalries     Secret Identity     Serial Killers     Shinigami     Supernatural     Thriller     Vigilantes     Based on a Manga   \n"
     ]
    }
   ],
   "source": [
    "def entry():\n",
    "    anime_name = \"Death-Note\"\n",
    "    # anime_name = (\n",
    "    #     input(\"[+] Enter the name of the Anime : \").strip().title().replace(\" \", \"-\")\n",
    "    # )\n",
    "    print(anime_name)\n",
    "\n",
    "\n",
    "    global search_url\n",
    "    search_url = \"https://www.anime-planet.com/anime/\" + anime_name\n",
    "    source_code = requests.get(search_url)\n",
    "    content = source_code.content\n",
    "    \n",
    "    global soup\n",
    "    soup = BeautifulSoup(content, features=\"html.parser\")\n",
    "\n",
    "    try:\n",
    "        details(soup)\n",
    "    except AttributeError:\n",
    "        print(\"Anime info not found\")\n",
    "\n",
    "\n",
    "if __name__ == \"__main__\":\n",
    "    entry()\n"
   ]
  },
  {
   "cell_type": "code",
   "execution_count": 4,
   "metadata": {},
   "outputs": [],
   "source": [
    "# Task to add image of the anime \n",
    "\n",
    "# image = soup.find(\"svg\", {\"id\": \"logo\"})\n",
    "# Image(url=image.get(\"data-src\"))"
   ]
  }
 ],
 "metadata": {
  "interpreter": {
   "hash": "c0f70214c0dd213f07f54ee5d6e0ea644bdbba35113c9bfe8aaa0d1db03ad5dd"
  },
  "kernelspec": {
   "display_name": "Python 3.8.8 64-bit ('base': conda)",
   "language": "python",
   "name": "python3"
  },
  "language_info": {
   "codemirror_mode": {
    "name": "ipython",
    "version": 3
   },
   "file_extension": ".py",
   "mimetype": "text/x-python",
   "name": "python",
   "nbconvert_exporter": "python",
   "pygments_lexer": "ipython3",
   "version": "3.9.7"
  },
  "orig_nbformat": 4
 },
 "nbformat": 4,
 "nbformat_minor": 2
}
