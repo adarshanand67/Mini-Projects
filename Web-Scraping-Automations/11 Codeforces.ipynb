{
 "cells": [
  {
   "cell_type": "code",
   "execution_count": 6,
   "metadata": {},
   "outputs": [
    {
     "name": "stdout",
     "output_type": "stream",
     "text": [
      "{'status': 'OK', 'result': [{'lastName': 'Anand', 'country': 'India', 'lastOnlineTimeSeconds': 1643084440, 'rating': 1321, 'friendOfCount': 17, 'titlePhoto': 'https://userpic.codeforces.org/2032560/title/c9db3660c836ab99.jpg', 'handle': 'adarshanand67', 'avatar': 'https://userpic.codeforces.org/2032560/avatar/6767f31eea4f11eb.jpg', 'firstName': 'Adarsh', 'contribution': 0, 'organization': 'IIT GOA', 'rank': 'pupil', 'maxRating': 1342, 'registrationTimeSeconds': 1618927450, 'maxRank': 'pupil'}]}\n"
     ]
    }
   ],
   "source": [
    "'''\n",
    "    Adarsh Anand \n",
    "    Give user details from the CodeForces API\n",
    "    PS - A noob coder here\n",
    "'''\n",
    "\n",
    "import requests\n",
    "from IPython.display import Image\n",
    "# handle = input(\"Enter your handle: \")\n",
    "handle = \"adarshanand67\"\n",
    "url = \"https://codeforces.com/api/user.info?handles=\" + handle\n",
    "content = requests.get(url).json()\n",
    "print(content)\n"
   ]
  },
  {
   "cell_type": "code",
   "execution_count": 3,
   "metadata": {},
   "outputs": [
    {
     "name": "stdout",
     "output_type": "stream",
     "text": [
      "First Name:  Adarsh\n",
      "Last Name:  Anand\n",
      "Country:  India\n",
      "Organization:  IIT GOA\n",
      "Rating:  1321\n",
      "Handle:  adarshanand67\n",
      "Friend:  17\n"
     ]
    }
   ],
   "source": [
    "firstname=content['result'][0]['firstName']\n",
    "lastname=content['result'][0]['lastName']\n",
    "country=content['result'][0]['country']\n",
    "organization=content['result'][0]['organization']\n",
    "rating=content['result'][0]['rating']\n",
    "handle=content['result'][0]['handle']\n",
    "friend=content['result'][0]['friendOfCount']\n",
    "title=content['result'][0]['titlePhoto']\n",
    "\n",
    "\n",
    "# Image(url=title,embed=True)\n",
    "print(\"First Name: \",firstname)\n",
    "print(\"Last Name: \",lastname)\n",
    "print(\"Country: \",country)\n",
    "print(\"Organization: \",organization)\n",
    "print(\"Rating: \",rating)\n",
    "# print(\"Avatar: \",avatar)\n",
    "print(\"Handle: \",handle)\n",
    "print(\"Friend: \",friend)\n",
    "# print(\"Title: \",title)"
   ]
  }
 ],
 "metadata": {
  "interpreter": {
   "hash": "a25b2d42e0fe57251b6ece2b75d30429fe26895efea1faac6949f166a7477be7"
  },
  "kernelspec": {
   "display_name": "Python 3.10.0 64-bit",
   "language": "python",
   "name": "python3"
  },
  "language_info": {
   "codemirror_mode": {
    "name": "ipython",
    "version": 3
   },
   "file_extension": ".py",
   "mimetype": "text/x-python",
   "name": "python",
   "nbconvert_exporter": "python",
   "pygments_lexer": "ipython3",
   "version": "3.9.7"
  },
  "orig_nbformat": 4
 },
 "nbformat": 4,
 "nbformat_minor": 2
}
